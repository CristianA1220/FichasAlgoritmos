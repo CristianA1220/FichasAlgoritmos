{
  "nbformat": 4,
  "nbformat_minor": 0,
  "metadata": {
    "colab": {
      "provenance": [],
      "authorship_tag": "ABX9TyNE7WUf2PABMrGV6uixpbFS",
      "include_colab_link": true
    },
    "kernelspec": {
      "name": "python3",
      "display_name": "Python 3"
    },
    "language_info": {
      "name": "python"
    }
  },
  "cells": [
    {
      "cell_type": "markdown",
      "metadata": {
        "id": "view-in-github",
        "colab_type": "text"
      },
      "source": [
        "<a href=\"https://colab.research.google.com/github/CristianA1220/FichasAlgoritmos/blob/main/FichaOperadores.ipynb\" target=\"_parent\"><img src=\"https://colab.research.google.com/assets/colab-badge.svg\" alt=\"Open In Colab\"/></a>"
      ]
    },
    {
      "cell_type": "code",
      "execution_count": 1,
      "metadata": {
        "colab": {
          "base_uri": "https://localhost:8080/"
        },
        "collapsed": true,
        "id": "rcNBGv4hkM_R",
        "outputId": "79e87257-fab8-40c5-bfeb-29701bca0e28"
      },
      "outputs": [
        {
          "output_type": "stream",
          "name": "stdout",
          "text": [
            "7\n",
            "6\n",
            "20\n",
            "12.5\n",
            "0\n",
            "16\n",
            "False\n",
            "False\n",
            "True\n",
            "True\n",
            "False\n",
            "True\n",
            "False\n",
            "True\n",
            "False\n",
            "True\n"
          ]
        }
      ],
      "source": [
        "#Los operadores matemáticos se utilizan para realizar operaciones matemáticas con números.\n",
        "# Operaciones matemáticas: + , - , * , / , % , **\n",
        "\n",
        "print(3 + 4) #suma\n",
        "print(10 - 4) #resta\n",
        "print(5 * 4) #multiplicacion\n",
        "print(50 / 4) #divicion\n",
        "print(15 % 3) #modulo,devuelve el residuo de la división entre dos números.Osea suma de 3 en 3 y devuelve lo sobrante si es el caso.\n",
        "print(2 ** 4) #potencia, Se utiliza para elevar un número a una potencia.\n",
        "\n",
        "\n",
        "#Los operadores lógicos se utilizan para realizar comparaciones entre valores y devolver resultados booleanos ( True o False).\n",
        "# Los operadores lógicos más comunes son: and , or , not\n",
        "\n",
        "print(3 <= 4 and 2 == 6 )# and, devuelve True solo si ambas condiciones son verdaderas.\n",
        "print(8 <= 4 or 4 == 7 )# or, devuelve True si al menos una de las condiciones es verdadera.\n",
        "print(2 <= 4 or (4 == 4  and 5 < 3)) # se centra el resolver primero el parentesis de adentro y despues los de afuera\n",
        "print(not(7 <= 4))#not, invierte el valor de una condición (cambia True a a False y viceversa).\n",
        "print(3 == 4) #igualdad\n",
        "print(3 != 4) #diferencia\n",
        "print(3 > 4) #mayor que\n",
        "print(3 < 4) #menor que\n",
        "print(3 >= 4) #mayor o igual que\n",
        "print(3 <= 4) #menor o igual que\n",
        "\n"
      ]
    },
    {
      "cell_type": "markdown",
      "source": [
        "https://1drv.ms/u/c/fec1c6ac8f13f787/ESgCl79ovqFOg3w6UFn5JOEBHPUv3cWi1CJkCtrFZ-JPOQ?e=cFCfMO"
      ],
      "metadata": {
        "id": "pyLSHe-j7V1F"
      }
    }
  ]
}