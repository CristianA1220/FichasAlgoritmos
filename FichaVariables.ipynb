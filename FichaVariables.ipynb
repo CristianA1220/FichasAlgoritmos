{
  "nbformat": 4,
  "nbformat_minor": 0,
  "metadata": {
    "colab": {
      "provenance": [],
      "authorship_tag": "ABX9TyOTm2fNcKNtHllfFjNhVRc8",
      "include_colab_link": true
    },
    "kernelspec": {
      "name": "python3",
      "display_name": "Python 3"
    },
    "language_info": {
      "name": "python"
    }
  },
  "cells": [
    {
      "cell_type": "markdown",
      "metadata": {
        "id": "view-in-github",
        "colab_type": "text"
      },
      "source": [
        "<a href=\"https://colab.research.google.com/github/CristianA1220/FichasAlgoritmos/blob/main/FichaVariables.ipynb\" target=\"_parent\"><img src=\"https://colab.research.google.com/assets/colab-badge.svg\" alt=\"Open In Colab\"/></a>"
      ]
    },
    {
      "cell_type": "code",
      "execution_count": null,
      "metadata": {
        "colab": {
          "base_uri": "https://localhost:8080/"
        },
        "id": "hNTMLdSekMFN",
        "outputId": "b7fd0425-f1a4-4b1f-e7cb-cf93026c37ff",
        "collapsed": true
      },
      "outputs": [
        {
          "output_type": "stream",
          "name": "stdout",
          "text": [
            "Datos de la persona:\n",
            "{'nombre': 'Carlos', 'edad': 30, 'altura': 1.75, 'programador': True, 'lenguajes': ['Python', 'JavaScript', 'C++']}\n"
          ]
        }
      ],
      "source": [
        "#las variables se utilizan para almacenar datos en la memoria, lo que permite manipular valores de manera eficiente dentro de un programa.\n",
        "#Se pueden asignar diferentes tipos de datos a una variable, como números, cadenas, listas, diccionarios, entre otros.\n",
        "#Tipos de datos: int, Enteros\n",
        "edad = 30\n",
        "#float, Números decimales\n",
        "altura = 1.75\n",
        "#str, Cadenas de texto\n",
        "nombre = \"Carlos\"\n",
        "#bool, Booleanos ( True o False)\n",
        "es_programador = True\n",
        "\n",
        "\n",
        "# Lista, son colecciones ordenadas y mutables que pueden contener elementos de diferentes tipos.\n",
        "#Se utilizan para almacenar secuencias de datos y permiten operaciones como agregar, eliminar y acceder a elementos por su índice.\n",
        "lenguajes = [\"Python\", \"JavaScript\", \"C++\"]\n",
        "\n",
        "# Diccionario,son colecciones no ordenadas de pares clave-valor.\n",
        "#Permiten asociar valores a claves únicas, facilitando la búsqueda y recuperación de datos de manera eficiente.\n",
        "persona = {\n",
        "    \"nombre\": nombre,\n",
        "    \"edad\": edad,\n",
        "    \"altura\": altura,\n",
        "    \"programador\": es_programador,\n",
        "    \"lenguajes\": lenguajes\n",
        "}\n",
        "\n",
        "# Mostramos la información\n",
        "print(\"Datos de la persona:\")\n",
        "print(persona)\n"
      ]
    },
    {
      "cell_type": "markdown",
      "source": [
        "https://1drv.ms/u/c/fec1c6ac8f13f787/EVYZlZLGNJVCrYH4B2fPIuQBuClvYkCk0M_GTrabrek5ag?e=iGJkq8"
      ],
      "metadata": {
        "id": "4eN70XMA7dL9"
      }
    }
  ]
}