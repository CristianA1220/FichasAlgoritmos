{
  "nbformat": 4,
  "nbformat_minor": 0,
  "metadata": {
    "colab": {
      "provenance": [],
      "authorship_tag": "ABX9TyNYu/OY+K9Lxq5XSbD5tUm+",
      "include_colab_link": true
    },
    "kernelspec": {
      "name": "python3",
      "display_name": "Python 3"
    },
    "language_info": {
      "name": "python"
    }
  },
  "cells": [
    {
      "cell_type": "markdown",
      "metadata": {
        "id": "view-in-github",
        "colab_type": "text"
      },
      "source": [
        "<a href=\"https://colab.research.google.com/github/CristianA1220/FichasAlgoritmos/blob/main/FichaFuncion.ipynb\" target=\"_parent\"><img src=\"https://colab.research.google.com/assets/colab-badge.svg\" alt=\"Open In Colab\"/></a>"
      ]
    },
    {
      "cell_type": "code",
      "execution_count": null,
      "metadata": {
        "id": "iG3go0NBC08a",
        "colab": {
          "base_uri": "https://localhost:8080/"
        },
        "outputId": "68455c0e-70f4-4de9-e63f-8190876b272d",
        "collapsed": true
      },
      "outputs": [
        {
          "output_type": "stream",
          "name": "stdout",
          "text": [
            "Hola, Juan\n",
            "8\n",
            "Hola, Ana\n",
            "Hola, Carlos\n",
            "La suma es: 8\n"
          ]
        }
      ],
      "source": [
        "#Funcion, es un bloque de código que puedes usar cada vez que lo necesites, sin tener que escribirlo de nuevo.\n",
        "#Parametro, son valores que le pueden pasar a la función para que trabaje con ellos.\n",
        "\n",
        "#Ejemplo1\n",
        "def saludar(nombre): #Cuando define una función con def, le estás a Python que quieres crear un conjunto de instrucciones que se pueden llamar más tarde.\n",
        "    print(f\"Hola, {nombre}\")\n",
        "\n",
        "saludar(\"Juan\")  # Llamando a la función\n",
        "\n",
        "#Ejemplo2\n",
        "\n",
        "def suma(a, b):\n",
        "    return a + b #return sirve para que la función devuelva un valor al lugar donde fue llamada.\n",
        "\n",
        "resultado = suma(3, 5)\n",
        "print(resultado)  # Imprime 8\n",
        "\n",
        "#Ejemplo3\n",
        "def saludar(nombre):#Cuando define una función con def, le estás a Python que quieres crear un conjunto de instrucciones que se pueden llamar más tarde.\n",
        "    print(\"Hola,\", nombre)\n",
        "\n",
        "saludar(\"Ana\")\n",
        "saludar(\"Carlos\")\n",
        "\n",
        "#Ejemplo4\n",
        "def sumar(a, b):\n",
        "    resultado = a + b\n",
        "    print(\"La suma es:\", resultado)\n",
        "\n",
        "sumar(5, 3)\n",
        "\n"
      ]
    },
    {
      "cell_type": "markdown",
      "source": [
        "https://1drv.ms/u/c/fec1c6ac8f13f787/EUa3xeqNVXlCrxdxLO_i-U4B2ibmBXuttsvLjA0yK0Mh1g?e=TrJBBD"
      ],
      "metadata": {
        "id": "i9UKxA2u7OFH"
      }
    }
  ]
}