{
  "nbformat": 4,
  "nbformat_minor": 0,
  "metadata": {
    "colab": {
      "provenance": [],
      "authorship_tag": "ABX9TyNgMRgaSD+Vewl2SrKhb3+n",
      "include_colab_link": true
    },
    "kernelspec": {
      "name": "python3",
      "display_name": "Python 3"
    },
    "language_info": {
      "name": "python"
    }
  },
  "cells": [
    {
      "cell_type": "markdown",
      "metadata": {
        "id": "view-in-github",
        "colab_type": "text"
      },
      "source": [
        "<a href=\"https://colab.research.google.com/github/CristianA1220/FichasAlgoritmos/blob/main/Condicionales.ipynb\" target=\"_parent\"><img src=\"https://colab.research.google.com/assets/colab-badge.svg\" alt=\"Open In Colab\"/></a>"
      ]
    },
    {
      "cell_type": "code",
      "execution_count": null,
      "metadata": {
        "colab": {
          "base_uri": "https://localhost:8080/"
        },
        "id": "dPoYi8ghkKq-",
        "outputId": "5e004b73-c8d1-4157-f4f7-42a252074f9c"
      },
      "outputs": [
        {
          "output_type": "stream",
          "name": "stdout",
          "text": [
            "Aprobado\n",
            "Eres mayor de edad\n"
          ]
        }
      ],
      "source": [
        "#Condicionales (if/else): Las estructuras condicionales permiten ejecutar diferentes bloques de código según si una condición es verdadera o falsa.\n",
        "\n",
        "#Ejemplo1\n",
        "nota = 85\n",
        "\n",
        "if nota >= 90: #Se ejecuta si la condición es verdadera.\n",
        "    print(\"Excelente\")\n",
        "elif nota >= 70:#Sirve para comprobar otra condición si la primera ( if) no se cumplió.\n",
        "    print(\"Aprobado\")\n",
        "elif nota >= 50:\n",
        "    print(\"Casi lo logras\")\n",
        "else: #Se ejecuta si la condición del if es falsa.\n",
        "    print(\"Reprobado\")\n",
        "\n",
        "#Ejemplo2\n",
        "edad = 18\n",
        "if edad >= 18: #Se ejecuta si la condición es verdadera.\n",
        "    print(\"Eres mayor de edad\")\n",
        "else: #Se ejecuta si la condición del if es falsa.\n",
        "    print(\"Eres menor de edad\")\n"
      ]
    },
    {
      "cell_type": "markdown",
      "source": [
        "https://1drv.ms/u/c/fec1c6ac8f13f787/ESUSS3rIx51LmlX5WzdZbMkBWOgPCFbjopW83X5QbtKp5A?e=6WjvMP"
      ],
      "metadata": {
        "id": "T094n6Qa8RD-"
      }
    }
  ]
}