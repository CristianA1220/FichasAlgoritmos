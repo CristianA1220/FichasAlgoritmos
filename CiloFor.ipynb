{
  "nbformat": 4,
  "nbformat_minor": 0,
  "metadata": {
    "colab": {
      "provenance": [],
      "authorship_tag": "ABX9TyN6j11LAU+4UqoDbkIJNADf",
      "include_colab_link": true
    },
    "kernelspec": {
      "name": "python3",
      "display_name": "Python 3"
    },
    "language_info": {
      "name": "python"
    }
  },
  "cells": [
    {
      "cell_type": "markdown",
      "metadata": {
        "id": "view-in-github",
        "colab_type": "text"
      },
      "source": [
        "<a href=\"https://colab.research.google.com/github/CristianA1220/FichasAlgoritmos/blob/main/CiloFor.ipynb\" target=\"_parent\"><img src=\"https://colab.research.google.com/assets/colab-badge.svg\" alt=\"Open In Colab\"/></a>"
      ]
    },
    {
      "cell_type": "code",
      "execution_count": null,
      "metadata": {
        "id": "zgo9hQO3kJkI",
        "colab": {
          "base_uri": "https://localhost:8080/"
        },
        "collapsed": true,
        "outputId": "42155071-c2cc-499d-ada9-1733ea66964e"
      },
      "outputs": [
        {
          "output_type": "stream",
          "name": "stdout",
          "text": [
            "0\n",
            "1\n",
            "2\n",
            "3\n",
            "4\n",
            "manzana\n",
            "banana\n",
            "naranja\n",
            "P\n",
            "y\n",
            "t\n",
            "h\n",
            "o\n",
            "n\n"
          ]
        }
      ],
      "source": [
        "#El ciclo (for) se usa para repetir un bloque de código varias veces, normalmente para recorrer listas, textos, diccionarios, rangos de números, etc.\n",
        "\n",
        "#Ejemplo recorriendo rangos de numeros\n",
        "for i in range(5): #(for) es la palabra clave que inicia el ciclo.\n",
        "                   # (i) es una variable que tomará el valor de cada elemento de la secuencia en cada iteración.\n",
        "                   #(in) es un operador que verifica si un elemento está presente en una secuencia.\n",
        "    print(i) # Su función principal es mostrar mensajes.\n",
        "\n",
        "#Ejemplo recorriendo listas\n",
        "frutas = [\"manzana\", \"banana\", \"naranja\"]\n",
        "\n",
        "for fruta in frutas:  # \"fruta\" toma cada valor de la lista\n",
        "    print(fruta)\n",
        "\n",
        "#Ejemplo recorriendo texto, imprime letra por letra.\n",
        "for letra in \"Python\":\n",
        "  print(letra)\n"
      ]
    },
    {
      "cell_type": "markdown",
      "source": [
        "https://1drv.ms/u/c/fec1c6ac8f13f787/Effh_Jot1TRFvBM_yT88UAEBg0aQp0kkKEcswqxuvKU7WQ?e=lqKk5l"
      ],
      "metadata": {
        "id": "tYyp39Qd74lS"
      }
    }
  ]
}